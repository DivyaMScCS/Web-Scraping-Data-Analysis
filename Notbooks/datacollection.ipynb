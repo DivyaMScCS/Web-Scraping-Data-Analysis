{
 "cells": [
  {
   "cell_type": "markdown",
   "metadata": {},
   "source": [
    "# data collecting"
   ]
  },
  {
   "cell_type": "code",
   "execution_count": 1,
   "metadata": {},
   "outputs": [],
   "source": [
    "import scrapy\n",
    "from scrapy.crawler import CrawlerProcess\n",
    "import re\n",
    "import requests\n",
    "from scrapy import Selector\n",
    "import pandas as pd\n",
    "from tqdm.notebook import tqdm"
   ]
  },
  {
   "cell_type": "code",
   "execution_count": 3,
   "metadata": {},
   "outputs": [
    {
     "name": "stdout",
     "output_type": "stream",
     "text": [
      "Note: you may need to restart the kernel to use updated packages.\n"
     ]
    },
    {
     "name": "stderr",
     "output_type": "stream",
     "text": [
      "ERROR: Could not find a version that satisfies the requirement bookspider (from versions: none)\n",
      "ERROR: No matching distribution found for bookspider\n",
      "\n",
      "[notice] A new release of pip is available: 23.2.1 -> 25.0.1\n",
      "[notice] To update, run: python.exe -m pip install --upgrade pip\n"
     ]
    }
   ],
   "source": [
    "pip install bookspider"
   ]
  },
  {
   "cell_type": "code",
   "execution_count": null,
   "metadata": {},
   "outputs": [
    {
     "name": "stdout",
     "output_type": "stream",
     "text": [
      "CSV file created successfully!\n"
     ]
    }
   ],
   "source": [
    "import requests\n",
    "import csv\n",
    "import re\n",
    "from parsel import Selector\n",
    "\n",
    "\n",
    "url = \"https://vaaree.com/collections/kitchen-decor\"\n",
    "\n",
    "\n",
    "response = requests.get(url)\n",
    "html = response.text\n",
    "sel = Selector(text=html)\n",
    "\n",
    "\n",
    "images = sel.css('img::attr(src)').getall()\n",
    "names = sel.css('h3::text').getall()\n",
    "types = sel.css('p.body6.font-light.line-clamp-2::text').getall()\n",
    "prices = sel.css('p.body4.font-semibold::text').getall()\n",
    "old_prices = sel.css('p.body8.font-semibold::text').getall()\n",
    "offers = sel.css('div.body8 span::text').getall()\n",
    "delivery_dates = sel.css('div p.body8::text').getall()\n",
    "\n",
    "\n",
    "old_prices = [price for price in old_prices if re.match(r'₹[\\d,]+', price)]\n",
    "\n",
    "data = []\n",
    "for i in range(len(names)):\n",
    "    data.append({\n",
    "        \"img\": images[i] if i < len(images) else '',\n",
    "        \"name\": names[i] if i < len(names) else '',\n",
    "        \"type\": types[i] if i < len(types) else '',\n",
    "        \"price\": prices[i] if i < len(prices) else '',\n",
    "        \"oldprice\": old_prices[i] if i < len(old_prices) else '',\n",
    "        \"offer\": offers[i] if i < len(offers) else '',\n",
    "        \"deleverydate\": delivery_dates[i] if i < len(delivery_dates) else ''\n",
    "    })\n",
    "\n",
    "\n",
    "with open(\"vaaree_kitchen_decor.csv\", \"w\", newline=\"\", encoding=\"utf-8\") as file:\n",
    "    writer = csv.DictWriter(file, fieldnames=[\"img\", \"name\", \"type\", \"price\", \"oldprice\", \"offer\", \"deleverydate\"])\n",
    "    writer.writeheader()\n",
    "    writer.writerows(data)\n",
    "\n",
    "print(\"CSV file created successfully!\")\n"
   ]
  },
  {
   "cell_type": "code",
   "execution_count": null,
   "metadata": {},
   "outputs": [],
   "source": []
  }
 ],
 "metadata": {
  "kernelspec": {
   "display_name": "Python 3",
   "language": "python",
   "name": "python3"
  },
  "language_info": {
   "codemirror_mode": {
    "name": "ipython",
    "version": 3
   },
   "file_extension": ".py",
   "mimetype": "text/x-python",
   "name": "python",
   "nbconvert_exporter": "python",
   "pygments_lexer": "ipython3",
   "version": "3.12.1"
  }
 },
 "nbformat": 4,
 "nbformat_minor": 2
}
